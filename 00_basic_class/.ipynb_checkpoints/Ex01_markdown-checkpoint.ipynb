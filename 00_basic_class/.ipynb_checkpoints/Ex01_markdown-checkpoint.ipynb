{
 "cells": [
  {
   "cell_type": "markdown",
   "id": "c1764790",
   "metadata": {},
   "source": [
    "## 쉘모드 변경\n",
    "\n",
    "+ code 쉘로 변경 : esc > y\n",
    "+ markdown 쉘로 변경 : esc > m"
   ]
  },
  {
   "cell_type": "markdown",
   "id": "3795d1cc",
   "metadata": {},
   "source": [
    "* 별표 하나는 번호 없는 목록\n",
    "\n",
    "*별표로 감싸면 기울이기(주의 별표와 공백없이)*\n",
    "\n",
    "**별표 2로 감싸면 굵게**\n",
    "\n",
    "***별표 3개?(굵게+기울이기)***\n",
    "\n",
    "가로선 ---\n",
    "---\n",
    "\n",
    "안녕하세요\n",
    "    안녕하세요"
   ]
  },
  {
   "cell_type": "markdown",
   "id": "306475d6",
   "metadata": {},
   "source": [
    "<div align='center'>헬로우 월드<div>\n",
    "    \n",
    "<img src='dataset/puppy.jpg'>    \n",
    "    \n",
    "\n",
    "[링크걸기](http://www.google.com)\n",
    "    \n",
    "[![](https://www.google.com/logos/doodles/2022/seasonal-holidays-2022-6753651837109831.4-law.gif)](http://www.google.com)\n"
   ]
  },
  {
   "cell_type": "code",
   "execution_count": 2,
   "id": "bf7a981d",
   "metadata": {},
   "outputs": [
    {
     "ename": "SyntaxError",
     "evalue": "invalid syntax (4028766134.py, line 1)",
     "output_type": "error",
     "traceback": [
      "\u001b[1;36m  File \u001b[1;32m\"C:\\Users\\kosmo\\AppData\\Local\\Temp\\ipykernel_1536\\4028766134.py\"\u001b[1;36m, line \u001b[1;32m1\u001b[0m\n\u001b[1;33m    <table>\u001b[0m\n\u001b[1;37m    ^\u001b[0m\n\u001b[1;31mSyntaxError\u001b[0m\u001b[1;31m:\u001b[0m invalid syntax\n"
     ]
    }
   ],
   "source": [
    "<table>\n",
    "</table>\n",
    " "
   ]
  },
  {
   "cell_type": "code",
   "execution_count": null,
   "id": "1fbb3b72",
   "metadata": {},
   "outputs": [],
   "source": [
    "import pandas\n",
    "\n",
    "p = pandas.read_csv('./dataset/subway_data1.csv', encoding='utf-8')"
   ]
  },
  {
   "cell_type": "code",
   "execution_count": null,
   "id": "874f7c3b",
   "metadata": {},
   "outputs": [],
   "source": [
    "p"
   ]
  },
  {
   "cell_type": "markdown",
   "id": "3be5920b",
   "metadata": {},
   "source": [
    "## <font color='red'>[참고] 서울 지하철 </font>\n",
    "\n",
    "<img src='dataset/map_subway.jpg'>"
   ]
  }
 ],
 "metadata": {
  "kernelspec": {
   "display_name": "Python 3 (ipykernel)",
   "language": "python",
   "name": "python3"
  },
  "language_info": {
   "codemirror_mode": {
    "name": "ipython",
    "version": 3
   },
   "file_extension": ".py",
   "mimetype": "text/x-python",
   "name": "python",
   "nbconvert_exporter": "python",
   "pygments_lexer": "ipython3",
   "version": "3.9.13"
  }
 },
 "nbformat": 4,
 "nbformat_minor": 5
}
