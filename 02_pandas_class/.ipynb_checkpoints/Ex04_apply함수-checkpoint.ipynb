{
 "cells": [
  {
   "cell_type": "code",
   "execution_count": 1,
   "metadata": {},
   "outputs": [
    {
     "data": {
      "text/html": [
       "<div>\n",
       "<style scoped>\n",
       "    .dataframe tbody tr th:only-of-type {\n",
       "        vertical-align: middle;\n",
       "    }\n",
       "\n",
       "    .dataframe tbody tr th {\n",
       "        vertical-align: top;\n",
       "    }\n",
       "\n",
       "    .dataframe thead th {\n",
       "        text-align: right;\n",
       "    }\n",
       "</style>\n",
       "<table border=\"1\" class=\"dataframe\">\n",
       "  <thead>\n",
       "    <tr style=\"text-align: right;\">\n",
       "      <th></th>\n",
       "      <th>a</th>\n",
       "      <th>b</th>\n",
       "    </tr>\n",
       "  </thead>\n",
       "  <tbody>\n",
       "    <tr>\n",
       "      <th>0</th>\n",
       "      <td>10</td>\n",
       "      <td>2</td>\n",
       "    </tr>\n",
       "    <tr>\n",
       "      <th>1</th>\n",
       "      <td>20</td>\n",
       "      <td>4</td>\n",
       "    </tr>\n",
       "    <tr>\n",
       "      <th>2</th>\n",
       "      <td>30</td>\n",
       "      <td>6</td>\n",
       "    </tr>\n",
       "  </tbody>\n",
       "</table>\n",
       "</div>"
      ],
      "text/plain": [
       "    a  b\n",
       "0  10  2\n",
       "1  20  4\n",
       "2  30  6"
      ]
     },
     "execution_count": 1,
     "metadata": {},
     "output_type": "execute_result"
    }
   ],
   "source": [
    "import pandas as pd\n",
    "\n",
    "df = pd.DataFrame( {'a':[10,20,30], 'b':[2, 4, 6]})\n",
    "\n",
    "df"
   ]
  },
  {
   "cell_type": "code",
   "execution_count": 4,
   "metadata": {},
   "outputs": [
    {
     "name": "stdout",
     "output_type": "stream",
     "text": [
      "9\n",
      "8\n"
     ]
    }
   ],
   "source": [
    "# 1. 함수 정의\n",
    "def my_fun1(x):\n",
    "    return x**2\n",
    "\n",
    "def my_fun2(x, n):\n",
    "    return x**n\n",
    "\n",
    "result1 = my_fun1(3)\n",
    "print(result1)\n",
    "\n",
    "result2 = my_fun2(2, 3)\n",
    "print(result2)"
   ]
  },
  {
   "cell_type": "code",
   "execution_count": 11,
   "metadata": {},
   "outputs": [
    {
     "name": "stdout",
     "output_type": "stream",
     "text": [
      "0    100\n",
      "1    400\n",
      "2    900\n",
      "Name: a, dtype: int64\n",
      "0     1000\n",
      "1     8000\n",
      "2    27000\n",
      "Name: a, dtype: int64\n"
     ]
    }
   ],
   "source": [
    "# 2. apply 함수를 이용하여 모든 데이타에 각각 함수 적용하기\n",
    "#print( my_fun1(df) )\n",
    "#print( my_fun2(df, 3) )\n",
    "\n",
    "#print( my_fun1(df['a']))\n",
    "\n",
    "print(df['a'].apply(my_fun1))\n",
    "print(df['a'].apply(my_fun2, n=3))"
   ]
  },
  {
   "cell_type": "code",
   "execution_count": 12,
   "metadata": {},
   "outputs": [
    {
     "name": "stdout",
     "output_type": "stream",
     "text": [
      "a    60\n",
      "b    12\n",
      "dtype: int64\n"
     ]
    }
   ],
   "source": [
    "# [연습] 데이타 프레임의 각 열 단위로 데이타의 합을 출력\n",
    "def my_fun3(col):\n",
    "    sum=0\n",
    "    for i in col:\n",
    "        sum += i\n",
    "    return sum\n",
    "\n",
    "print( df.apply(my_fun3) )"
   ]
  },
  {
   "cell_type": "code",
   "execution_count": 18,
   "metadata": {},
   "outputs": [
    {
     "ename": "NameError",
     "evalue": "name 'dfp' is not defined",
     "output_type": "error",
     "traceback": [
      "\u001b[1;31m---------------------------------------------------------------------------\u001b[0m",
      "\u001b[1;31mNameError\u001b[0m                                 Traceback (most recent call last)",
      "\u001b[1;32m~\\AppData\\Local\\Temp\\ipykernel_12132\\735396667.py\u001b[0m in \u001b[0;36m<module>\u001b[1;34m\u001b[0m\n\u001b[0;32m      7\u001b[0m     \u001b[1;32mreturn\u001b[0m \u001b[0mgrade\u001b[0m\u001b[1;33m\u001b[0m\u001b[1;33m\u001b[0m\u001b[0m\n\u001b[0;32m      8\u001b[0m \u001b[1;33m\u001b[0m\u001b[0m\n\u001b[1;32m----> 9\u001b[1;33m \u001b[0mdfp\u001b[0m\u001b[1;33m[\u001b[0m\u001b[1;34m'result'\u001b[0m\u001b[1;33m]\u001b[0m \u001b[1;33m=\u001b[0m \u001b[0mdf\u001b[0m\u001b[1;33m[\u001b[0m\u001b[1;34m'a'\u001b[0m\u001b[1;33m]\u001b[0m\u001b[1;33m.\u001b[0m\u001b[0mapply\u001b[0m\u001b[1;33m(\u001b[0m\u001b[0mfunc\u001b[0m\u001b[1;33m)\u001b[0m\u001b[1;33m\u001b[0m\u001b[1;33m\u001b[0m\u001b[0m\n\u001b[0m\u001b[0;32m     10\u001b[0m \u001b[1;33m\u001b[0m\u001b[0m\n\u001b[0;32m     11\u001b[0m \u001b[0mdfp\u001b[0m\u001b[1;33m\u001b[0m\u001b[1;33m\u001b[0m\u001b[0m\n",
      "\u001b[1;31mNameError\u001b[0m: name 'dfp' is not defined"
     ]
    }
   ],
   "source": [
    "# 'a' 컬럼의 값이 10 이하는 'C', 20 이하는  'B', 30 이하는 'A'를 지정하고자 할 때\n",
    "def func(score):\n",
    "    grade = ''\n",
    "    if( score <= 10) : grade='C'\n",
    "    elif(score <= 20) : grade='B'\n",
    "    elif(score <= 30) : grade='A'\n",
    "    return grade\n",
    "\n",
    "dfp['result'] = df['a'].apply(func)\n",
    "\n",
    "dfp\n"
   ]
  },
  {
   "cell_type": "markdown",
   "metadata": {},
   "source": [
    "## [연습]  고객의 결제정보에서 vip 선별\n",
    "\n",
    "결재가 confirmed 된 상태이고 금액이 500원이상 구매한 고객들을 vip로 선별하고 그 외 고객들은 non-vip로 지정하여 grade 컬럼에 추가 저장한다."
   ]
  },
  {
   "cell_type": "code",
   "execution_count": 16,
   "metadata": {},
   "outputs": [
    {
     "data": {
      "text/html": [
       "<div>\n",
       "<style scoped>\n",
       "    .dataframe tbody tr th:only-of-type {\n",
       "        vertical-align: middle;\n",
       "    }\n",
       "\n",
       "    .dataframe tbody tr th {\n",
       "        vertical-align: top;\n",
       "    }\n",
       "\n",
       "    .dataframe thead th {\n",
       "        text-align: right;\n",
       "    }\n",
       "</style>\n",
       "<table border=\"1\" class=\"dataframe\">\n",
       "  <thead>\n",
       "    <tr style=\"text-align: right;\">\n",
       "      <th></th>\n",
       "      <th>date</th>\n",
       "      <th>price</th>\n",
       "      <th>state</th>\n",
       "    </tr>\n",
       "    <tr>\n",
       "      <th>Name</th>\n",
       "      <th></th>\n",
       "      <th></th>\n",
       "      <th></th>\n",
       "    </tr>\n",
       "  </thead>\n",
       "  <tbody>\n",
       "    <tr>\n",
       "      <th>Kang</th>\n",
       "      <td>2017-01-01</td>\n",
       "      <td>500</td>\n",
       "      <td>confirmed</td>\n",
       "    </tr>\n",
       "    <tr>\n",
       "      <th>Kim</th>\n",
       "      <td>2017-01-03</td>\n",
       "      <td>700</td>\n",
       "      <td>confirmed</td>\n",
       "    </tr>\n",
       "    <tr>\n",
       "      <th>Choi</th>\n",
       "      <td>2017-01-03</td>\n",
       "      <td>900</td>\n",
       "      <td>confirmed</td>\n",
       "    </tr>\n",
       "    <tr>\n",
       "      <th>Park</th>\n",
       "      <td>2017-01-05</td>\n",
       "      <td>800</td>\n",
       "      <td>confirmed</td>\n",
       "    </tr>\n",
       "    <tr>\n",
       "      <th>Lee</th>\n",
       "      <td>2017-01-07</td>\n",
       "      <td>500</td>\n",
       "      <td>canceled</td>\n",
       "    </tr>\n",
       "    <tr>\n",
       "      <th>Yoon</th>\n",
       "      <td>2017-01-09</td>\n",
       "      <td>700</td>\n",
       "      <td>confirmed</td>\n",
       "    </tr>\n",
       "    <tr>\n",
       "      <th>Jang</th>\n",
       "      <td>2017-01-09</td>\n",
       "      <td>600</td>\n",
       "      <td>canceled</td>\n",
       "    </tr>\n",
       "    <tr>\n",
       "      <th>Ko</th>\n",
       "      <td>2017-01-10</td>\n",
       "      <td>200</td>\n",
       "      <td>canceled</td>\n",
       "    </tr>\n",
       "  </tbody>\n",
       "</table>\n",
       "</div>"
      ],
      "text/plain": [
       "            date  price      state\n",
       "Name                              \n",
       "Kang  2017-01-01    500  confirmed\n",
       "Kim   2017-01-03    700  confirmed\n",
       "Choi  2017-01-03    900  confirmed\n",
       "Park  2017-01-05    800  confirmed\n",
       "Lee   2017-01-07    500   canceled\n",
       "Yoon  2017-01-09    700  confirmed\n",
       "Jang  2017-01-09    600   canceled\n",
       "Ko    2017-01-10    200   canceled"
      ]
     },
     "execution_count": 16,
     "metadata": {},
     "output_type": "execute_result"
    }
   ],
   "source": [
    "import pandas as pd\n",
    "\n",
    "# index_col : 지정한 컬럼을 Row Index로 사용한다.\n",
    "customer = pd.read_csv('./data/customer.csv', index_col = \"Name\")\n",
    "\n",
    "customer"
   ]
  },
  {
   "cell_type": "code",
   "execution_count": 17,
   "metadata": {},
   "outputs": [
    {
     "data": {
      "text/html": [
       "<div>\n",
       "<style scoped>\n",
       "    .dataframe tbody tr th:only-of-type {\n",
       "        vertical-align: middle;\n",
       "    }\n",
       "\n",
       "    .dataframe tbody tr th {\n",
       "        vertical-align: top;\n",
       "    }\n",
       "\n",
       "    .dataframe thead th {\n",
       "        text-align: right;\n",
       "    }\n",
       "</style>\n",
       "<table border=\"1\" class=\"dataframe\">\n",
       "  <thead>\n",
       "    <tr style=\"text-align: right;\">\n",
       "      <th></th>\n",
       "      <th>date</th>\n",
       "      <th>price</th>\n",
       "      <th>state</th>\n",
       "      <th>grade</th>\n",
       "    </tr>\n",
       "    <tr>\n",
       "      <th>Name</th>\n",
       "      <th></th>\n",
       "      <th></th>\n",
       "      <th></th>\n",
       "      <th></th>\n",
       "    </tr>\n",
       "  </thead>\n",
       "  <tbody>\n",
       "    <tr>\n",
       "      <th>Kang</th>\n",
       "      <td>2017-01-01</td>\n",
       "      <td>500</td>\n",
       "      <td>confirmed</td>\n",
       "      <td>vip</td>\n",
       "    </tr>\n",
       "    <tr>\n",
       "      <th>Kim</th>\n",
       "      <td>2017-01-03</td>\n",
       "      <td>700</td>\n",
       "      <td>confirmed</td>\n",
       "      <td>vip</td>\n",
       "    </tr>\n",
       "    <tr>\n",
       "      <th>Choi</th>\n",
       "      <td>2017-01-03</td>\n",
       "      <td>900</td>\n",
       "      <td>confirmed</td>\n",
       "      <td>vip</td>\n",
       "    </tr>\n",
       "    <tr>\n",
       "      <th>Park</th>\n",
       "      <td>2017-01-05</td>\n",
       "      <td>800</td>\n",
       "      <td>confirmed</td>\n",
       "      <td>vip</td>\n",
       "    </tr>\n",
       "    <tr>\n",
       "      <th>Lee</th>\n",
       "      <td>2017-01-07</td>\n",
       "      <td>500</td>\n",
       "      <td>canceled</td>\n",
       "      <td>non-vip</td>\n",
       "    </tr>\n",
       "    <tr>\n",
       "      <th>Yoon</th>\n",
       "      <td>2017-01-09</td>\n",
       "      <td>700</td>\n",
       "      <td>confirmed</td>\n",
       "      <td>vip</td>\n",
       "    </tr>\n",
       "    <tr>\n",
       "      <th>Jang</th>\n",
       "      <td>2017-01-09</td>\n",
       "      <td>600</td>\n",
       "      <td>canceled</td>\n",
       "      <td>non-vip</td>\n",
       "    </tr>\n",
       "    <tr>\n",
       "      <th>Ko</th>\n",
       "      <td>2017-01-10</td>\n",
       "      <td>200</td>\n",
       "      <td>canceled</td>\n",
       "      <td>non-vip</td>\n",
       "    </tr>\n",
       "  </tbody>\n",
       "</table>\n",
       "</div>"
      ],
      "text/plain": [
       "            date  price      state    grade\n",
       "Name                                       \n",
       "Kang  2017-01-01    500  confirmed      vip\n",
       "Kim   2017-01-03    700  confirmed      vip\n",
       "Choi  2017-01-03    900  confirmed      vip\n",
       "Park  2017-01-05    800  confirmed      vip\n",
       "Lee   2017-01-07    500   canceled  non-vip\n",
       "Yoon  2017-01-09    700  confirmed      vip\n",
       "Jang  2017-01-09    600   canceled  non-vip\n",
       "Ko    2017-01-10    200   canceled  non-vip"
      ]
     },
     "execution_count": 17,
     "metadata": {},
     "output_type": "execute_result"
    }
   ],
   "source": [
    "import pandas as pd\n",
    "\n",
    "# index_col : 지정한 컬럼을 Row Index로 사용한다.\n",
    "customer = pd.read_csv('./data/customer.csv', index_col = \"Name\")\n",
    "\n",
    "def dfunc(customer):\n",
    "    if (customer['state'] == 'confirmed') and (customer['price'] >= 500):\n",
    "        return 'vip'\n",
    "    else:\n",
    "        return 'non-vip'\n",
    "\n",
    "customer['grade'] = customer.apply(dfunc,axis=1)\n",
    "customer\n"
   ]
  }
 ],
 "metadata": {
  "kernelspec": {
   "display_name": "Python 3 (ipykernel)",
   "language": "python",
   "name": "python3"
  },
  "language_info": {
   "codemirror_mode": {
    "name": "ipython",
    "version": 3
   },
   "file_extension": ".py",
   "mimetype": "text/x-python",
   "name": "python",
   "nbconvert_exporter": "python",
   "pygments_lexer": "ipython3",
   "version": "3.9.13"
  }
 },
 "nbformat": 4,
 "nbformat_minor": 2
}
